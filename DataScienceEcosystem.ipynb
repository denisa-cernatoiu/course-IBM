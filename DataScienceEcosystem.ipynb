{
 "cells": [
  {
   "cell_type": "markdown",
   "id": "a96e57bc-dfeb-41d2-af87-549510cc0d70",
   "metadata": {},
   "source": [
    "# Data Science Tools and Ecosystem"
   ]
  },
  {
   "cell_type": "markdown",
   "id": "74708aab-9d34-495b-a1b8-79a908a761d9",
   "metadata": {},
   "source": [
    "In this notebook, Data Science Tools and Ecosystem are summarized."
   ]
  },
  {
   "cell_type": "markdown",
   "id": "65e92df3-856c-4b5e-9047-11e0c0a2edd2",
   "metadata": {},
   "source": [
    "**Objectives:**\n",
    "- List popular languages for Data Science\n",
    "- List data science libraries\n",
    "- Create a table of Data Science tools"
   ]
  },
  {
   "cell_type": "markdown",
   "id": "75b80fe7-c37c-425f-8232-1dfe7612b78f",
   "metadata": {},
   "source": [
    "Some of the popular languages that Data Scientists use are:\n",
    "1. Python\n",
    "2. R\n",
    "3. SQL"
   ]
  },
  {
   "attachments": {},
   "cell_type": "markdown",
   "id": "803c4f8d-96c9-48ea-b333-f28a7505dd45",
   "metadata": {},
   "source": [
    "Some of the commonly used libraries used by Data Scientists include\n",
    "1. Pandas\n",
    "1. Numpy\n",
    "1. TensorFlow"
   ]
  },
  {
   "cell_type": "markdown",
   "id": "4cd36a9d-ae31-433d-870a-a8319cab4092",
   "metadata": {},
   "source": [
    "Data Science Tools |\n",
    "------------------- |\n",
    "Jupyter Notebook |\n",
    "RStudio |\n",
    "Google Colab |"
   ]
  },
  {
   "cell_type": "markdown",
   "id": "a9e9bf0f-6eab-45a3-9ff8-1f99f47fb2fd",
   "metadata": {},
   "source": [
    "### Below are a few examples of evaluating arithmetic expressions in Python:\n",
    "a = 5\n",
    "b = 6\n",
    "c = a+b/2"
   ]
  },
  {
   "cell_type": "code",
   "execution_count": 3,
   "id": "3d064dad-0aaa-40b9-8a8a-59efcb026d16",
   "metadata": {},
   "outputs": [
    {
     "data": {
      "text/plain": [
       "17"
      ]
     },
     "execution_count": 3,
     "metadata": {},
     "output_type": "execute_result"
    }
   ],
   "source": [
    "#This a simple arithmetic expression to mutiply then add integers\n",
    "(3*4)+5"
   ]
  },
  {
   "cell_type": "code",
   "execution_count": 4,
   "id": "9fb08111-c6f7-445b-97b5-e17f81f827f8",
   "metadata": {},
   "outputs": [
    {
     "data": {
      "text/plain": [
       "3.3333333333333335"
      ]
     },
     "execution_count": 4,
     "metadata": {},
     "output_type": "execute_result"
    }
   ],
   "source": [
    "#This will convert 200 minutes to hours by diving by 60\n",
    "200/60"
   ]
  },
  {
   "cell_type": "markdown",
   "id": "6b4e6c7b-246b-4bc8-a455-1216e6dc4f16",
   "metadata": {},
   "source": [
    "## Author\n",
    "Cernatoiu Costina-Alina-Denisa"
   ]
  }
 ],
 "metadata": {
  "kernelspec": {
   "display_name": "Python 3 (ipykernel)",
   "language": "python",
   "name": "python3"
  },
  "language_info": {
   "codemirror_mode": {
    "name": "ipython",
    "version": 3
   },
   "file_extension": ".py",
   "mimetype": "text/x-python",
   "name": "python",
   "nbconvert_exporter": "python",
   "pygments_lexer": "ipython3",
   "version": "3.11.7"
  }
 },
 "nbformat": 4,
 "nbformat_minor": 5
}
